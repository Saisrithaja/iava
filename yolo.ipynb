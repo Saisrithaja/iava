{
 "cells": [
  {
   "cell_type": "code",
   "execution_count": null,
   "metadata": {},
   "outputs": [],
   "source": [
    "#git clone https://github.com/ultralytics/yolov5  # clone\n",
    "#cd yolov5\n",
    "#pip install -r requirements.txt  # install\n",
    "#python3 train.py --img 640 --batch 16 --epochs 50 --data ../datasets/data.yaml --weights yolov5s.pt --name object"
   ]
  },
  {
   "cell_type": "code",
   "execution_count": null,
   "metadata": {},
   "outputs": [],
   "source": [
    "#python val.py --data ../datasets/data.yaml --weights runs/train/object/weights/best.pt --img 640\n",
    "\n",
    "#python detect.py --weights runs/train/object/weights/best.pt --img 640 --conf 0.25 --source 0"
   ]
  }
 ],
 "metadata": {
  "language_info": {
   "name": "python"
  }
 },
 "nbformat": 4,
 "nbformat_minor": 2
}
